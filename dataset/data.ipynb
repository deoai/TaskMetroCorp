{
 "cells": [
  {
   "cell_type": "code",
   "execution_count": 7,
   "metadata": {},
   "outputs": [],
   "source": [
    "import pandas as pd\n",
    "import numpy as np"
   ]
  },
  {
   "cell_type": "code",
   "execution_count": 15,
   "metadata": {},
   "outputs": [],
   "source": [
    "def generate_hotel_data(num_rows=100):\n",
    "  \"\"\"\n",
    "  Generates a DataFrame with specified number of rows for hotel occupancy and price.\n",
    "\n",
    "  Args:\n",
    "    num_rows: The number of rows to generate.\n",
    "\n",
    "  Returns:\n",
    "    A pandas DataFrame containing the generated data.\n",
    "  \"\"\"\n",
    "\n",
    "  # Create an empty DataFrame\n",
    "  data = {'Tanggal': pd.date_range(start='2023-01-01', periods=num_rows),\n",
    "          'Tingkat Hunian (%)': np.random.randint(50, 100, size=num_rows),\n",
    "          'Harga Rata-rata (Rp)': np.random.randint(500000, 1500000, size=num_rows)}\n",
    "\n",
    "  # Ensure a strong positive correlation between occupancy and price\n",
    "  data['Harga Rata-rata (Rp)'] = data['Tingkat Hunian (%)'] * 5000 + np.random.randint(-100000, 100000, size=num_rows)\n",
    "  \n",
    "  df['Harga Rata-rata (Rp)'] = df['Harga Rata-rata (Rp)'] // 1000 * 1000\n",
    "  return df"
   ]
  },
  {
   "cell_type": "code",
   "execution_count": null,
   "metadata": {},
   "outputs": [],
   "source": [
    "# buatkan kode pembulatan\n"
   ]
  },
  {
   "cell_type": "code",
   "execution_count": 16,
   "metadata": {},
   "outputs": [],
   "source": [
    "# Generate and save the DataFrame\n",
    "df = generate_hotel_data(1000)\n",
    "df.to_csv('hotel_data_simplified2.csv', index=False)"
   ]
  },
  {
   "cell_type": "code",
   "execution_count": null,
   "metadata": {},
   "outputs": [],
   "source": []
  }
 ],
 "metadata": {
  "kernelspec": {
   "display_name": "Python 3",
   "language": "python",
   "name": "python3"
  },
  "language_info": {
   "codemirror_mode": {
    "name": "ipython",
    "version": 3
   },
   "file_extension": ".py",
   "mimetype": "text/x-python",
   "name": "python",
   "nbconvert_exporter": "python",
   "pygments_lexer": "ipython3",
   "version": "3.11.9"
  }
 },
 "nbformat": 4,
 "nbformat_minor": 2
}
